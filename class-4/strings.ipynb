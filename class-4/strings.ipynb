{
 "cells": [
  {
   "cell_type": "code",
   "execution_count": null,
   "metadata": {},
   "outputs": [],
   "source": [
    "what = 'some very long string'\n",
    "what[2:-1]"
   ]
  },
  {
   "cell_type": "code",
   "execution_count": 12,
   "metadata": {},
   "outputs": [
    {
     "data": {
      "text/plain": [
       "['capitalize',\n",
       " 'casefold',\n",
       " 'center',\n",
       " 'count',\n",
       " 'encode',\n",
       " 'endswith',\n",
       " 'expandtabs',\n",
       " 'find',\n",
       " 'format',\n",
       " 'format_map',\n",
       " 'index',\n",
       " 'isalnum',\n",
       " 'isalpha',\n",
       " 'isdecimal',\n",
       " 'isdigit',\n",
       " 'isidentifier',\n",
       " 'islower',\n",
       " 'isnumeric',\n",
       " 'isprintable',\n",
       " 'isspace',\n",
       " 'istitle',\n",
       " 'isupper',\n",
       " 'join',\n",
       " 'ljust',\n",
       " 'lower',\n",
       " 'lstrip',\n",
       " 'maketrans',\n",
       " 'partition',\n",
       " 'replace',\n",
       " 'rfind',\n",
       " 'rindex',\n",
       " 'rjust',\n",
       " 'rpartition',\n",
       " 'rsplit',\n",
       " 'rstrip',\n",
       " 'split',\n",
       " 'splitlines',\n",
       " 'startswith',\n",
       " 'strip',\n",
       " 'swapcase',\n",
       " 'title',\n",
       " 'translate',\n",
       " 'upper',\n",
       " 'zfill']"
      ]
     },
     "execution_count": 12,
     "metadata": {},
     "output_type": "execute_result"
    }
   ],
   "source": [
    "[ x for x in dir('know your libraries') if '__' not in x]"
   ]
  },
  {
   "cell_type": "code",
   "execution_count": 13,
   "metadata": {},
   "outputs": [
    {
     "data": {
      "text/plain": [
       "'S.split(sep=None, maxsplit=-1) -> list of strings\\n\\nReturn a list of the words in S, using sep as the\\ndelimiter string.  If maxsplit is given, at most maxsplit\\nsplits are done. If sep is not specified or is None, any\\nwhitespace string is a separator and empty strings are\\nremoved from the result.'"
      ]
     },
     "execution_count": 13,
     "metadata": {},
     "output_type": "execute_result"
    }
   ],
   "source": [
    "'a'.split.__doc__"
   ]
  },
  {
   "cell_type": "code",
   "execution_count": 3,
   "metadata": {},
   "outputs": [
    {
     "name": "stdout",
     "output_type": "stream",
     "text": [
      "S\n",
      "s\n",
      "mu\n",
      " fun with strings\n",
      "So muc\n",
      " fun with str\n"
     ]
    }
   ],
   "source": [
    "str='So much fun with strings'\n",
    "print(str[0])\n",
    "print(str[-1])\n",
    "print(str[3:5])\n",
    "print(str[7:])\n",
    "print(str[:6]) \n",
    "print(str[7:-4]) "
   ]
  },
  {
   "cell_type": "markdown",
   "metadata": {},
   "source": [
    "# A string is a sequence of characters. \n",
    "\n",
    "A string may encode an integer, e.g., “123” encodes 123. \n",
    "\n",
    "Write a method that take a string representing an integer and return the corresponding integer. Write a method that does opposite.\n",
    "\n",
    "* Your code should handle negative integers\n",
    "* You cannot use library functions for conversion\n",
    "* can use functools, string.digits.index, [], lambda, chr, ord\n"
   ]
  },
  {
   "cell_type": "code",
   "execution_count": 23,
   "metadata": {},
   "outputs": [
    {
     "data": {
      "text/plain": [
       "'S.index(sub[, start[, end]]) -> int\\n\\nReturn the lowest index in S where substring sub is found, \\nsuch that sub is contained within S[start:end].  Optional\\narguments start and end are interpreted as in slice notation.\\n\\nRaises ValueError when the substring is not found.'"
      ]
     },
     "execution_count": 23,
     "metadata": {},
     "output_type": "execute_result"
    }
   ],
   "source": [
    "string.digits.index.__doc__"
   ]
  },
  {
   "cell_type": "code",
   "execution_count": 24,
   "metadata": {},
   "outputs": [
    {
     "data": {
      "text/plain": [
       "'Return a Unicode string of one character with ordinal i; 0 <= i <= 0x10ffff.'"
      ]
     },
     "execution_count": 24,
     "metadata": {},
     "output_type": "execute_result"
    }
   ],
   "source": [
    "chr.__doc__"
   ]
  },
  {
   "cell_type": "code",
   "execution_count": 9,
   "metadata": {},
   "outputs": [
    {
     "data": {
      "text/plain": [
       "63245986"
      ]
     },
     "execution_count": 9,
     "metadata": {},
     "output_type": "execute_result"
    }
   ],
   "source": [
    "0\n",
    "1\n",
    "1\n",
    "2\n",
    "3\n",
    "5\n",
    "8\n",
    "13\n",
    "21\n",
    "34\n",
    "55\n",
    "89\n",
    "144\n",
    "233\n",
    "377\n",
    "610\n",
    "987\n",
    "1597\n",
    "2584\n",
    "4181\n",
    "6765\n",
    "10946\n",
    "17711\n",
    "28657\n",
    "46368\n",
    "75025\n",
    "121393\n",
    "196418\n",
    "317811\n",
    "514229\n",
    "832040\n",
    "1346269\n",
    "2178309\n",
    "3524578\n",
    "5702887\n",
    "9227465\n",
    "14930352\n",
    "24157817\n",
    "39088169\n",
    "63245986"
   ]
  },
  {
   "cell_type": "code",
   "execution_count": 11,
   "metadata": {},
   "outputs": [
    {
     "data": {
      "text/plain": [
       "'-23'"
      ]
     },
     "execution_count": 11,
     "metadata": {},
     "output_type": "execute_result"
    }
   ],
   "source": [
    "import functools\n",
    "import string\n",
    "\n",
    "def int_to_string(x): \n",
    "    is_negative = False \n",
    "    if x < 0:\n",
    "        x, is_negative = -x, True\n",
    "    s = [] \n",
    "    while True:\n",
    "        s.append(chr(ord('0') + x % 10)) \n",
    "        x //= 10\n",
    "        if x == 0:\n",
    "            break\n",
    "    # Adds the negative sign back if is_negative\n",
    "    return ('-' if is_negative else '') + ''.join(reversed(s))\n",
    "\n",
    "def string_to_int(s):\n",
    "    return functools.reduce(\n",
    "        lambda running_sum ,c: \\\n",
    "                            running_sum * 10 + \\\n",
    "                            string.digits.index(c), s[s[0] == '-':], 0) * \\\n",
    "                            (-1 if s[0] == '-' else 1)\n",
    "\n",
    "\n",
    "\n",
    "int_to_string(string_to_int('-23'))"
   ]
  }
 ],
 "metadata": {
  "kernelspec": {
   "display_name": "Python 3",
   "language": "python",
   "name": "python3"
  },
  "language_info": {
   "codemirror_mode": {
    "name": "ipython",
    "version": 3
   },
   "file_extension": ".py",
   "mimetype": "text/x-python",
   "name": "python",
   "nbconvert_exporter": "python",
   "pygments_lexer": "ipython3",
   "version": "3.6.4"
  }
 },
 "nbformat": 4,
 "nbformat_minor": 2
}
