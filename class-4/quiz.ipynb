{
 "cells": [
  {
   "cell_type": "code",
   "execution_count": 11,
   "metadata": {},
   "outputs": [
    {
     "name": "stdout",
     "output_type": "stream",
     "text": [
      "20\n"
     ]
    }
   ],
   "source": [
    "# a simple version of GCD\n",
    "x = 20\n",
    "y = 400\n",
    "m = x\n",
    "n = y\n",
    "while m != n:\n",
    "    if m>n:\n",
    "        m = m - n\n",
    "    else:\n",
    "        n = n - m\n",
    "print(n)\n"
   ]
  },
  {
   "cell_type": "code",
   "execution_count": 6,
   "metadata": {},
   "outputs": [
    {
     "name": "stdout",
     "output_type": "stream",
     "text": [
      "[25, 25, 25, 10, 1, 1, 1]\n"
     ]
    }
   ],
   "source": [
    "def changeOmat(change,toChange):\n",
    "    if toChange == 0: \n",
    "        return []\n",
    "    for coin in change:\n",
    "        if coin<= toChange: return [coin] + changeOmat(change,toChange-coin)\n",
    "\n",
    "change = [25, 10, 5,1]\n",
    "print (changeOmat(change,88))"
   ]
  },
  {
   "cell_type": "code",
   "execution_count": 7,
   "metadata": {},
   "outputs": [
    {
     "name": "stdout",
     "output_type": "stream",
     "text": [
      "[10, 1, 1]\n"
     ]
    }
   ],
   "source": [
    "# and example, sure there are plenty of variance\n",
    "change = [25,10,7,5,1]\n",
    "print (changeOmat(change,12))\n",
    "#optimal would [7,5]"
   ]
  },
  {
   "cell_type": "code",
   "execution_count": 10,
   "metadata": {},
   "outputs": [
    {
     "name": "stdout",
     "output_type": "stream",
     "text": [
      "2\n"
     ]
    }
   ],
   "source": [
    "# Not a part of the quiz, just FYI \n",
    "# a solution that actually find number of coins in the optimal case\n",
    "# https://en.wikipedia.org/wiki/Change-making_problem\n",
    "# How would you change it to actully print the solution?\n",
    "\n",
    "def _get_change_making_matrix(set_of_coins, r):\n",
    "    m = [[0 for _ in range(r + 1)] for _ in range(len(set_of_coins) + 1)]\n",
    "    for i in range(r + 1):\n",
    "        m[0][i] = i\n",
    "    return m\n",
    "\n",
    "def change_making(coins, n):\n",
    "    \"\"\"This function assumes that all coins are available infinitely.\n",
    "    n is the number to obtain with the fewest coins.\n",
    "    coins is a list or tuple with the available denominations.\"\"\"\n",
    "    m = _get_change_making_matrix(coins, n)\n",
    "    for c in range(1, len(coins) + 1):\n",
    "        for r in range(1, n + 1):\n",
    "            # Just use the coin coins[c - 1].\n",
    "            if coins[c - 1] == r:\n",
    "                m[c][r] = 1\n",
    "            # coins[c - 1] cannot be included.\n",
    "            # Use the previous solution for making r,\n",
    "            # excluding coins[c - 1].\n",
    "            elif coins[c - 1] > r:\n",
    "                m[c][r] = m[c - 1][r]\n",
    "            # coins[c - 1] can be used.\n",
    "            # Decide which one of the following solutions is the best:\n",
    "            # 1. Using the previous solution for making r (without using coins[c - 1]).\n",
    "            # 2. Using the previous solution for making r - coins[c - 1] (without\n",
    "            #      using coins[c - 1]) plus this 1 extra coin.\n",
    "            else:\n",
    "                m[c][r] = min(m[c - 1][r], 1 + m[c][r - coins[c - 1]])\n",
    "    return m[-1][-1]\n",
    "\n",
    "print(change_making([25,10,7,5,1], 12))"
   ]
  },
  {
   "cell_type": "code",
   "execution_count": 9,
   "metadata": {},
   "outputs": [
    {
     "name": "stdout",
     "output_type": "stream",
     "text": [
      "1 11\n",
      "2 10\n",
      "3 9\n",
      "4 8\n",
      "5 7\n",
      "6 6\n"
     ]
    }
   ],
   "source": [
    "def doThingies( x, y):\n",
    "    if y >= x:\n",
    "        return\n",
    "    if x-y > 0 and x-y >= y:\n",
    "        print(y, x-y);\n",
    "    doThingies(x, y+1)\n",
    "\n",
    "n = 12\n",
    "doThingies(n, 1);"
   ]
  }
 ],
 "metadata": {
  "kernelspec": {
   "display_name": "Python 3",
   "language": "python",
   "name": "python3"
  },
  "language_info": {
   "codemirror_mode": {
    "name": "ipython",
    "version": 3
   },
   "file_extension": ".py",
   "mimetype": "text/x-python",
   "name": "python",
   "nbconvert_exporter": "python",
   "pygments_lexer": "ipython3",
   "version": "3.6.4"
  }
 },
 "nbformat": 4,
 "nbformat_minor": 2
}
