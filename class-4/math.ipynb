{
 "cells": [
  {
   "attachments": {},
   "cell_type": "markdown",
   "metadata": {},
   "source": [
    "# Fibonacci number\n",
    "\n",
    "every number after the first two is the sum of the two preceding ones\n",
    "\n",
    "write a program that takes one argument, number of elements to returns in a list with fibonacci numbers \n",
    "\n",
    "print list with one element per line as bellow\n",
    "\n",
    "ex: `my_function(50)`"
   ]
  },
  {
   "cell_type": "code",
   "execution_count": 22,
   "metadata": {},
   "outputs": [
    {
     "data": {
      "text/plain": [
       "514229"
      ]
     },
     "execution_count": 22,
     "metadata": {},
     "output_type": "execute_result"
    }
   ],
   "source": [
    "0\n",
    "1\n",
    "1\n",
    "2\n",
    "3\n",
    "5\n",
    "8\n",
    "13\n",
    "21\n",
    "34\n",
    "55\n",
    "89\n",
    "144\n",
    "233\n",
    "377\n",
    "610\n",
    "987\n",
    "1597\n",
    "2584\n",
    "4181\n",
    "6765\n",
    "10946\n",
    "17711\n",
    "28657\n",
    "46368\n",
    "75025\n",
    "121393\n",
    "196418\n",
    "317811\n",
    "514229\n",
    "832040\n",
    "1346269\n",
    "2178309\n",
    "3524578\n",
    "5702887\n",
    "9227465\n",
    "14930352\n",
    "24157817\n",
    "39088169\n",
    "63245986"
   ]
  },
  {
   "cell_type": "code",
   "execution_count": 23,
   "metadata": {},
   "outputs": [
    {
     "name": "stdout",
     "output_type": "stream",
     "text": [
      "0\n",
      "1\n",
      "1\n",
      "2\n",
      "3\n",
      "5\n",
      "8\n",
      "13\n",
      "21\n",
      "34\n",
      "55\n",
      "89\n",
      "144\n",
      "233\n",
      "377\n",
      "610\n",
      "987\n",
      "1597\n",
      "2584\n",
      "4181\n",
      "6765\n",
      "10946\n",
      "17711\n",
      "28657\n",
      "46368\n",
      "75025\n",
      "121393\n",
      "196418\n",
      "317811\n",
      "514229\n",
      "832040\n",
      "1346269\n",
      "2178309\n",
      "3524578\n",
      "5702887\n",
      "9227465\n",
      "14930352\n",
      "24157817\n",
      "39088169\n",
      "63245986\n"
     ]
    }
   ],
   "source": [
    "\n",
    "def fibc(count):\n",
    "    fibonacci_numbers = [0, 1]\n",
    "    for i in range(2,count):\n",
    "        fibonacci_numbers.append(fibonacci_numbers[i-1]+fibonacci_numbers[i-2])\n",
    "    return fibonacci_numbers\n",
    "    \n",
    "print(*fibc(40),sep='\\n')"
   ]
  },
  {
   "cell_type": "code",
   "execution_count": 27,
   "metadata": {},
   "outputs": [
    {
     "data": {
      "text/plain": [
       "False"
      ]
     },
     "execution_count": 27,
     "metadata": {},
     "output_type": "execute_result"
    }
   ],
   "source": [
    "def is_prime(n):\n",
    "    if n==2 or n==3: \n",
    "        return True\n",
    "    if n%2==0 or n<2: \n",
    "        return False\n",
    "    for i in range(3,n):\n",
    "        if n%i==0:\n",
    "            return False    \n",
    "    return True\n",
    "\n",
    "is_prime(10)"
   ]
  },
  {
   "cell_type": "code",
   "execution_count": 28,
   "metadata": {},
   "outputs": [
    {
     "name": "stdout",
     "output_type": "stream",
     "text": [
      "0\n",
      "1\n",
      "1\n",
      "2\n",
      "3\n",
      "5\n",
      "8\n",
      "13\n",
      "21\n",
      "34\n",
      "55\n",
      "89\n",
      "144\n",
      "233\n",
      "377\n",
      "610\n",
      "987\n",
      "1597\n",
      "2584\n",
      "4181\n",
      "6765\n",
      "10946\n",
      "17711\n",
      "28657\n",
      "46368\n",
      "75025\n",
      "121393\n",
      "196418\n",
      "317811\n",
      "514229\n",
      "832040\n",
      "1346269\n",
      "2178309\n",
      "3524578\n",
      "5702887\n",
      "9227465\n",
      "14930352\n",
      "24157817\n",
      "39088169\n",
      "63245986\n"
     ]
    }
   ],
   "source": [
    "print(*fibc(40),sep='\\n')"
   ]
  },
  {
   "cell_type": "code",
   "execution_count": 30,
   "metadata": {},
   "outputs": [
    {
     "data": {
      "text/plain": [
       "False"
      ]
     },
     "execution_count": 30,
     "metadata": {},
     "output_type": "execute_result"
    }
   ],
   "source": [
    "def is_prime_better(n):\n",
    "    if n==2 or n==3: \n",
    "        return True\n",
    "    if n%2==0 or n<2: \n",
    "        return False\n",
    "    for i in range(int(n**0.5)+1,2):\n",
    "        if n%i==0:\n",
    "            return False    \n",
    "\n",
    "    return True\n",
    "\n",
    "is_prime_better(10)"
   ]
  },
  {
   "cell_type": "code",
   "execution_count": 35,
   "metadata": {},
   "outputs": [
    {
     "name": "stdout",
     "output_type": "stream",
     "text": [
      "[]\n"
     ]
    }
   ],
   "source": []
  },
  {
   "cell_type": "code",
   "execution_count": null,
   "metadata": {},
   "outputs": [],
   "source": []
  }
 ],
 "metadata": {
  "kernelspec": {
   "display_name": "Python 3",
   "language": "python",
   "name": "python3"
  },
  "language_info": {
   "codemirror_mode": {
    "name": "ipython",
    "version": 3
   },
   "file_extension": ".py",
   "mimetype": "text/x-python",
   "name": "python",
   "nbconvert_exporter": "python",
   "pygments_lexer": "ipython3",
   "version": "3.6.4"
  }
 },
 "nbformat": 4,
 "nbformat_minor": 2
}
